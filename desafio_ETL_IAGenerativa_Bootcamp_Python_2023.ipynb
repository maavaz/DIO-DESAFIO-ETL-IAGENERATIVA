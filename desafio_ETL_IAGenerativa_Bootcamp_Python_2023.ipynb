{
 "cells": [
  {
   "cell_type": "code",
   "execution_count": null,
   "id": "d1f0a52e",
   "metadata": {},
   "outputs": [],
   "source": [
    "# Instalação da biblioteca para recuperação dos informações do UOL.\n",
    "\n",
    "!pip install git+https://github.com/pyanderson/python-brasileirao"
   ]
  },
  {
   "cell_type": "code",
   "execution_count": null,
   "id": "8ae2e74c",
   "metadata": {},
   "outputs": [],
   "source": [
    "# Instalação da API do GOOGLE BARD\n",
    "\n",
    "!pip install bardapi"
   ]
  },
  {
   "cell_type": "code",
   "execution_count": null,
   "id": "417437c3",
   "metadata": {},
   "outputs": [],
   "source": [
    "# imports Python\n",
    "import os\n",
    "import json\n",
    "import requests\n",
    "import pandas as pd\n",
    "from bardapi import Bard\n",
    "from bardapi import BardCookies"
   ]
  },
  {
   "cell_type": "markdown",
   "id": "ed19a7dd",
   "metadata": {},
   "source": [
    "## Fase Extração\n",
    "\n",
    "#### Nesta fase recuperamos os dados do Brasileirão 2023 a partir da biblioteca disponível no endereço https://github.com/pyanderson/python-brasileirao  do site uol, em um dicionário."
   ]
  },
  {
   "cell_type": "code",
   "execution_count": null,
   "id": "9b63da97",
   "metadata": {},
   "outputs": [],
   "source": [
    "def get_equipes():\n",
    "    \n",
    "    URL = ('http://jsuol.com.br/c/monaco/utils/gestor/commons.js?callback='\n",
    "           'simulador_dados_jsonp&file=commons.uol.com.br/sistemas/esporte'\n",
    "           '/modalidades/futebol/campeonatos/dados/2023/30/dados.json')\n",
    "    response = requests.get(URL)\n",
    "    jn = json.loads(response.text[22:len(response.text)-3])\n",
    "    return jn if response.status_code == 200 else None\n",
    "    \n"
   ]
  },
  {
   "cell_type": "markdown",
   "id": "332d7a1a",
   "metadata": {},
   "source": [
    "## Tratamento\n",
    "#### Montamos um Dataframe Panda a partir do dicionário carregado do UOL. O Dataframe contem os seguintes campos: \n",
    "#####              - Posicao                  : Posição da equipe no Campeonato Brasileiro\n",
    "#####               - Clube                    : Nome da Equipe\n",
    "#####               - Pontos Ganhos   : Pontos Ganhos até a rodada atual\n"
   ]
  },
  {
   "cell_type": "code",
   "execution_count": null,
   "id": "b8a7f265",
   "metadata": {},
   "outputs": [],
   "source": [
    "def transformacao(jn):\n",
    "    equipes = {}\n",
    "    classificacao = {'Posicao':[], \"Clube\":[],\"Pontos Ganhos\":[], 'Rodada Atual':[]}\n",
    "    rodada = None\n",
    "    \n",
    "    nome_completo = jn['nome-completo']\n",
    "    rodada = jn['fases']['3682']['rodada']\n",
    "    for k, v in jn['equipes'].items():\n",
    "        equipes[k] = v['nome-comum']\n",
    "\n",
    "    fases = jn['fases']['3682']\n",
    "    rodada = fases['rodada'] \n",
    "    for e, d in fases['classificacao']['equipe'].items():\n",
    "        classificacao['Posicao'].append(d['pos'])\n",
    "        classificacao['Clube'].append(equipes[e])\n",
    "        classificacao['Pontos Ganhos'].append(d['pg']['total'])\n",
    "        classificacao['Rodada Atual'].append(rodada['atual'])\n",
    "    df = pd.DataFrame(classificacao)    \n",
    "    return df\n",
    "    "
   ]
  },
  {
   "cell_type": "markdown",
   "id": "04e8dae4",
   "metadata": {},
   "source": [
    "## Carregamento\n",
    "\n",
    "#### Nesta fase iremos usar a Generative AI da Google (Bard) para tentarmos obter a probabilidade de um time ser campeão brasileiro com os pontos atuais,\n",
    "\n",
    "### É Necessário atualizar as Secures IDs do bart\n",
    "\n",
    "1. Visite https://bard.google.com/\n",
    "2. Pressione F12 para console\n",
    "3. Session: Application → Cookies → Copy the value of __Secure-1PSID and __Secure-1PSIDTS cookie."
   ]
  },
  {
   "cell_type": "code",
   "execution_count": null,
   "id": "9cb6b220",
   "metadata": {},
   "outputs": [],
   "source": [
    "\n",
    "def bard_answer(texto):\n",
    "#    token = 'Zwjn5-Mu593KxedqQOKifr-SLDW42MSVBvl2XnWj-r2idQeU_fn29np6lN_WKO6pcnCBbg.'\n",
    "#    bard = Bard(token=token)\n",
    "\n",
    "\n",
    "    cookie_dict = {\n",
    "                    \"__Secure-1PSID\": \"Zwjn5-Mu593KxedqQOKifr-SLDW42MSVBvl2XnWj-r2idQeU_fn29np6lN_WKO6pcnCBbg.\",\n",
    "                    \"__Secure-1PSIDTS\": \"sidts-CjEBSAxbGZ9ChZ1Ug01LCTxeDyrzGF1fOgovjzvBfclhcZY60td2IgK-A2vv8yM46jotEAA\",\n",
    "                    }\n",
    "\n",
    "    bard = BardCookies(cookie_dict=cookie_dict)\n",
    "    resposta = bard.get_answer(texto)['content']\n",
    "    return resposta\n",
    "\n",
    "def load_Excel(tabela):\n",
    "    resposta = []\n",
    "    \n",
    "    for i, info in tabela.iterrows():\n",
    "        texto = f\"Probabilidade do {info['Clube']} ser campeão brasileiro 2023 com {info['Pontos Ganhos']} pontos na rodada {info['Rodada Atual']}\"\n",
    "        resposta.append(bard_answer(texto))\n",
    " \n",
    "    tabela['Probabilidade BART'] = resposta\n",
    "    excel = pd.ExcelWriter('Desafio_DIO_IAGEN.xlsx', engine='xlsxwriter')\n",
    "    tabela.to_excel(excel, sheet_name='Probabilidades GOOGLE BART')\n",
    "    excel.save()\n",
    "\n"
   ]
  },
  {
   "cell_type": "markdown",
   "id": "1b1f8084",
   "metadata": {},
   "source": [
    "## EXECUÇÃO"
   ]
  },
  {
   "cell_type": "code",
   "execution_count": null,
   "id": "7817f7fd",
   "metadata": {},
   "outputs": [],
   "source": [
    "jn = get_equipes()\n",
    "if  not (jn is None):\n",
    "    tabela = transformacao(jn)\n",
    "    load_Excel(tabela)"
   ]
  },
  {
   "cell_type": "code",
   "execution_count": null,
   "id": "68cac05d",
   "metadata": {},
   "outputs": [],
   "source": []
  }
 ],
 "metadata": {
  "kernelspec": {
   "display_name": "Python 3 (ipykernel)",
   "language": "python",
   "name": "python3"
  },
  "language_info": {
   "codemirror_mode": {
    "name": "ipython",
    "version": 3
   },
   "file_extension": ".py",
   "mimetype": "text/x-python",
   "name": "python",
   "nbconvert_exporter": "python",
   "pygments_lexer": "ipython3",
   "version": "3.9.13"
  }
 },
 "nbformat": 4,
 "nbformat_minor": 5
}
